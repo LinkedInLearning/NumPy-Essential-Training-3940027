{
 "cells": [
  {
   "cell_type": "code",
   "execution_count": 1,
   "id": "5a807f9e",
   "metadata": {},
   "outputs": [],
   "source": [
    "import numpy as np"
   ]
  },
  {
   "cell_type": "markdown",
   "id": "83b62515",
   "metadata": {},
   "source": [
    "### カンマ区切り"
   ]
  },
  {
   "cell_type": "code",
   "execution_count": 2,
   "id": "8429cde3",
   "metadata": {},
   "outputs": [],
   "source": [
    "x = np.loadtxt(\"m_data.csv\",delimiter=\",\", skiprows=1)"
   ]
  },
  {
   "cell_type": "code",
   "execution_count": 3,
   "id": "16ae40ac",
   "metadata": {
    "scrolled": true
   },
   "outputs": [
    {
     "data": {
      "text/plain": [
       "array([[ 1. , 19.2, 16.8, 17.7, 21. , 19.5],\n",
       "       [ 2. , 12.4, 13.8, 14.5, 11.1, 15.6],\n",
       "       [ 3. , 16.8, 17.2, 15.6, 17.8, 18.1],\n",
       "       [ 4. , 19.4, 18.7, 18.5, 18.3, 18.9],\n",
       "       [ 5. , 17.8, 17.4, 18.1, 17.8, 17.4]])"
      ]
     },
     "execution_count": 3,
     "metadata": {},
     "output_type": "execute_result"
    }
   ],
   "source": [
    "x"
   ]
  },
  {
   "cell_type": "markdown",
   "id": "bda81fbf",
   "metadata": {},
   "source": [
    "### タブ区切り"
   ]
  },
  {
   "cell_type": "code",
   "execution_count": 4,
   "id": "6c0a54a8",
   "metadata": {},
   "outputs": [],
   "source": [
    "x = np.loadtxt(\"m_data.txt\",delimiter=\"\\t\", skiprows=1)"
   ]
  },
  {
   "cell_type": "code",
   "execution_count": 5,
   "id": "9e155830",
   "metadata": {},
   "outputs": [
    {
     "data": {
      "text/plain": [
       "array([[ 1. , 19.2, 16.8, 17.7, 21. , 19.5],\n",
       "       [ 2. , 12.4, 13.8, 14.5, 11.1, 15.6],\n",
       "       [ 3. , 16.8, 17.2, 15.6, 17.8, 18.1],\n",
       "       [ 4. , 19.4, 18.7, 18.5, 18.3, 18.9],\n",
       "       [ 5. , 17.8, 17.4, 18.1, 17.8, 17.4]])"
      ]
     },
     "execution_count": 5,
     "metadata": {},
     "output_type": "execute_result"
    }
   ],
   "source": [
    "x"
   ]
  },
  {
   "cell_type": "code",
   "execution_count": null,
   "id": "0afea9b3",
   "metadata": {},
   "outputs": [],
   "source": []
  }
 ],
 "metadata": {
  "kernelspec": {
   "display_name": "Python 3 (ipykernel)",
   "language": "python",
   "name": "python3"
  },
  "language_info": {
   "codemirror_mode": {
    "name": "ipython",
    "version": 3
   },
   "file_extension": ".py",
   "mimetype": "text/x-python",
   "name": "python",
   "nbconvert_exporter": "python",
   "pygments_lexer": "ipython3",
   "version": "3.11.5"
  }
 },
 "nbformat": 4,
 "nbformat_minor": 5
}
