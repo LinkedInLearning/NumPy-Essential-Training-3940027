{
 "cells": [
  {
   "cell_type": "code",
   "execution_count": 1,
   "id": "bef5d78c",
   "metadata": {},
   "outputs": [],
   "source": [
    "import numpy as np"
   ]
  },
  {
   "cell_type": "markdown",
   "id": "60a4463a",
   "metadata": {},
   "source": [
    "### roll関数（シフト）"
   ]
  },
  {
   "cell_type": "code",
   "execution_count": 2,
   "id": "82f18b7a",
   "metadata": {},
   "outputs": [],
   "source": [
    "a = np.arange(10)"
   ]
  },
  {
   "cell_type": "code",
   "execution_count": 3,
   "id": "4d2a0de8",
   "metadata": {},
   "outputs": [
    {
     "data": {
      "text/plain": [
       "array([0, 1, 2, 3, 4, 5, 6, 7, 8, 9])"
      ]
     },
     "execution_count": 3,
     "metadata": {},
     "output_type": "execute_result"
    }
   ],
   "source": [
    "a"
   ]
  },
  {
   "cell_type": "code",
   "execution_count": 4,
   "id": "40133b64",
   "metadata": {},
   "outputs": [
    {
     "data": {
      "text/plain": [
       "array([7, 8, 9, 0, 1, 2, 3, 4, 5, 6])"
      ]
     },
     "execution_count": 4,
     "metadata": {},
     "output_type": "execute_result"
    }
   ],
   "source": [
    "np.roll(a,3)"
   ]
  },
  {
   "cell_type": "markdown",
   "id": "faeaff3b",
   "metadata": {},
   "source": [
    "### マイナスを指定すると"
   ]
  },
  {
   "cell_type": "code",
   "execution_count": 5,
   "id": "b529bc18",
   "metadata": {},
   "outputs": [
    {
     "data": {
      "text/plain": [
       "array([3, 4, 5, 6, 7, 8, 9, 0, 1, 2])"
      ]
     },
     "execution_count": 5,
     "metadata": {},
     "output_type": "execute_result"
    }
   ],
   "source": [
    "np.roll(a,-3)"
   ]
  },
  {
   "cell_type": "markdown",
   "id": "da2ce606",
   "metadata": {},
   "source": [
    "### 二次元だと"
   ]
  },
  {
   "cell_type": "code",
   "execution_count": 6,
   "id": "2cf24b9d",
   "metadata": {},
   "outputs": [],
   "source": [
    "a = np.arange(36).reshape(3,12)"
   ]
  },
  {
   "cell_type": "code",
   "execution_count": 7,
   "id": "e3e30870",
   "metadata": {},
   "outputs": [
    {
     "data": {
      "text/plain": [
       "array([[ 0,  1,  2,  3,  4,  5,  6,  7,  8,  9, 10, 11],\n",
       "       [12, 13, 14, 15, 16, 17, 18, 19, 20, 21, 22, 23],\n",
       "       [24, 25, 26, 27, 28, 29, 30, 31, 32, 33, 34, 35]])"
      ]
     },
     "execution_count": 7,
     "metadata": {},
     "output_type": "execute_result"
    }
   ],
   "source": [
    "a"
   ]
  },
  {
   "cell_type": "code",
   "execution_count": 8,
   "id": "a02b4072",
   "metadata": {
    "scrolled": true
   },
   "outputs": [
    {
     "data": {
      "text/plain": [
       "array([[30, 31, 32, 33, 34, 35,  0,  1,  2,  3,  4,  5],\n",
       "       [ 6,  7,  8,  9, 10, 11, 12, 13, 14, 15, 16, 17],\n",
       "       [18, 19, 20, 21, 22, 23, 24, 25, 26, 27, 28, 29]])"
      ]
     },
     "execution_count": 8,
     "metadata": {},
     "output_type": "execute_result"
    }
   ],
   "source": [
    "np.roll(a,6)"
   ]
  },
  {
   "cell_type": "markdown",
   "id": "d6487106",
   "metadata": {},
   "source": [
    "### 軸を指定すると"
   ]
  },
  {
   "cell_type": "code",
   "execution_count": 9,
   "id": "61ec992c",
   "metadata": {},
   "outputs": [
    {
     "data": {
      "text/plain": [
       "array([[ 0,  1,  2,  3,  4,  5,  6,  7,  8,  9, 10, 11],\n",
       "       [12, 13, 14, 15, 16, 17, 18, 19, 20, 21, 22, 23],\n",
       "       [24, 25, 26, 27, 28, 29, 30, 31, 32, 33, 34, 35]])"
      ]
     },
     "execution_count": 9,
     "metadata": {},
     "output_type": "execute_result"
    }
   ],
   "source": [
    "a"
   ]
  },
  {
   "cell_type": "code",
   "execution_count": 10,
   "id": "762d4c92",
   "metadata": {},
   "outputs": [
    {
     "data": {
      "text/plain": [
       "array([[12, 13, 14, 15, 16, 17, 18, 19, 20, 21, 22, 23],\n",
       "       [24, 25, 26, 27, 28, 29, 30, 31, 32, 33, 34, 35],\n",
       "       [ 0,  1,  2,  3,  4,  5,  6,  7,  8,  9, 10, 11]])"
      ]
     },
     "execution_count": 10,
     "metadata": {},
     "output_type": "execute_result"
    }
   ],
   "source": [
    "np.roll(a,2,axis=0)"
   ]
  },
  {
   "cell_type": "code",
   "execution_count": 11,
   "id": "7f594b34",
   "metadata": {},
   "outputs": [
    {
     "data": {
      "text/plain": [
       "array([[ 6,  7,  8,  9, 10, 11,  0,  1,  2,  3,  4,  5],\n",
       "       [18, 19, 20, 21, 22, 23, 12, 13, 14, 15, 16, 17],\n",
       "       [30, 31, 32, 33, 34, 35, 24, 25, 26, 27, 28, 29]])"
      ]
     },
     "execution_count": 11,
     "metadata": {},
     "output_type": "execute_result"
    }
   ],
   "source": [
    "np.roll(a,6,axis=1)"
   ]
  },
  {
   "cell_type": "markdown",
   "id": "2aea2acf",
   "metadata": {},
   "source": [
    "### 3次元"
   ]
  },
  {
   "cell_type": "code",
   "execution_count": 12,
   "id": "af0f01d9",
   "metadata": {},
   "outputs": [],
   "source": [
    "a = np.arange(36).reshape(3,4,3)"
   ]
  },
  {
   "cell_type": "code",
   "execution_count": 13,
   "id": "6ebe9e0e",
   "metadata": {},
   "outputs": [
    {
     "data": {
      "text/plain": [
       "array([[[ 0,  1,  2],\n",
       "        [ 3,  4,  5],\n",
       "        [ 6,  7,  8],\n",
       "        [ 9, 10, 11]],\n",
       "\n",
       "       [[12, 13, 14],\n",
       "        [15, 16, 17],\n",
       "        [18, 19, 20],\n",
       "        [21, 22, 23]],\n",
       "\n",
       "       [[24, 25, 26],\n",
       "        [27, 28, 29],\n",
       "        [30, 31, 32],\n",
       "        [33, 34, 35]]])"
      ]
     },
     "execution_count": 13,
     "metadata": {},
     "output_type": "execute_result"
    }
   ],
   "source": [
    "a"
   ]
  },
  {
   "cell_type": "code",
   "execution_count": 14,
   "id": "02d6f514",
   "metadata": {},
   "outputs": [
    {
     "data": {
      "text/plain": [
       "array([[[12, 13, 14],\n",
       "        [15, 16, 17],\n",
       "        [18, 19, 20],\n",
       "        [21, 22, 23]],\n",
       "\n",
       "       [[24, 25, 26],\n",
       "        [27, 28, 29],\n",
       "        [30, 31, 32],\n",
       "        [33, 34, 35]],\n",
       "\n",
       "       [[ 0,  1,  2],\n",
       "        [ 3,  4,  5],\n",
       "        [ 6,  7,  8],\n",
       "        [ 9, 10, 11]]])"
      ]
     },
     "execution_count": 14,
     "metadata": {},
     "output_type": "execute_result"
    }
   ],
   "source": [
    "np.roll(a,2,axis=0) #0次元"
   ]
  },
  {
   "cell_type": "code",
   "execution_count": 15,
   "id": "24af9c8c",
   "metadata": {},
   "outputs": [
    {
     "data": {
      "text/plain": [
       "array([[[ 6,  7,  8],\n",
       "        [ 9, 10, 11],\n",
       "        [ 0,  1,  2],\n",
       "        [ 3,  4,  5]],\n",
       "\n",
       "       [[18, 19, 20],\n",
       "        [21, 22, 23],\n",
       "        [12, 13, 14],\n",
       "        [15, 16, 17]],\n",
       "\n",
       "       [[30, 31, 32],\n",
       "        [33, 34, 35],\n",
       "        [24, 25, 26],\n",
       "        [27, 28, 29]]])"
      ]
     },
     "execution_count": 15,
     "metadata": {},
     "output_type": "execute_result"
    }
   ],
   "source": [
    "np.roll(a,2,axis=1) #1次元"
   ]
  },
  {
   "cell_type": "code",
   "execution_count": 16,
   "id": "b7cd8bf3",
   "metadata": {
    "scrolled": true
   },
   "outputs": [
    {
     "data": {
      "text/plain": [
       "array([[[ 1,  2,  0],\n",
       "        [ 4,  5,  3],\n",
       "        [ 7,  8,  6],\n",
       "        [10, 11,  9]],\n",
       "\n",
       "       [[13, 14, 12],\n",
       "        [16, 17, 15],\n",
       "        [19, 20, 18],\n",
       "        [22, 23, 21]],\n",
       "\n",
       "       [[25, 26, 24],\n",
       "        [28, 29, 27],\n",
       "        [31, 32, 30],\n",
       "        [34, 35, 33]]])"
      ]
     },
     "execution_count": 16,
     "metadata": {},
     "output_type": "execute_result"
    }
   ],
   "source": [
    "np.roll(a,2,axis=2) #2次元"
   ]
  },
  {
   "cell_type": "code",
   "execution_count": 17,
   "id": "8c900eb9",
   "metadata": {},
   "outputs": [
    {
     "data": {
      "text/plain": [
       "array([[[ 2,  0,  1],\n",
       "        [ 5,  3,  4],\n",
       "        [ 8,  6,  7],\n",
       "        [11,  9, 10]],\n",
       "\n",
       "       [[14, 12, 13],\n",
       "        [17, 15, 16],\n",
       "        [20, 18, 19],\n",
       "        [23, 21, 22]],\n",
       "\n",
       "       [[26, 24, 25],\n",
       "        [29, 27, 28],\n",
       "        [32, 30, 31],\n",
       "        [35, 33, 34]]])"
      ]
     },
     "execution_count": 17,
     "metadata": {},
     "output_type": "execute_result"
    }
   ],
   "source": [
    "np.roll(a,1,axis=2) #2次元"
   ]
  },
  {
   "cell_type": "code",
   "execution_count": null,
   "id": "6e63c095",
   "metadata": {},
   "outputs": [],
   "source": []
  }
 ],
 "metadata": {
  "kernelspec": {
   "display_name": "Python 3 (ipykernel)",
   "language": "python",
   "name": "python3"
  },
  "language_info": {
   "codemirror_mode": {
    "name": "ipython",
    "version": 3
   },
   "file_extension": ".py",
   "mimetype": "text/x-python",
   "name": "python",
   "nbconvert_exporter": "python",
   "pygments_lexer": "ipython3",
   "version": "3.11.5"
  }
 },
 "nbformat": 4,
 "nbformat_minor": 5
}
