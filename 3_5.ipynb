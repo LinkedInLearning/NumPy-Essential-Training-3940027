{
 "cells": [
  {
   "cell_type": "markdown",
   "id": "cbd45848",
   "metadata": {},
   "source": [
    "## view()"
   ]
  },
  {
   "cell_type": "code",
   "execution_count": 1,
   "id": "c3b53497",
   "metadata": {},
   "outputs": [],
   "source": [
    "import numpy as np"
   ]
  },
  {
   "cell_type": "code",
   "execution_count": 2,
   "id": "8b91f8c7",
   "metadata": {},
   "outputs": [],
   "source": [
    "a = np.random.randint(10, size=(3,3,3 ))"
   ]
  },
  {
   "cell_type": "code",
   "execution_count": 3,
   "id": "045b1bd1",
   "metadata": {},
   "outputs": [
    {
     "data": {
      "text/plain": [
       "array([[[8, 6, 2],\n",
       "        [2, 4, 1],\n",
       "        [0, 8, 6]],\n",
       "\n",
       "       [[7, 4, 9],\n",
       "        [8, 2, 7],\n",
       "        [5, 6, 2]],\n",
       "\n",
       "       [[3, 2, 9],\n",
       "        [7, 1, 8],\n",
       "        [1, 1, 5]]])"
      ]
     },
     "execution_count": 3,
     "metadata": {},
     "output_type": "execute_result"
    }
   ],
   "source": [
    "a"
   ]
  },
  {
   "cell_type": "code",
   "execution_count": 4,
   "id": "31280def",
   "metadata": {},
   "outputs": [],
   "source": [
    "b = a.view()"
   ]
  },
  {
   "cell_type": "code",
   "execution_count": 7,
   "id": "1dd67892",
   "metadata": {},
   "outputs": [],
   "source": [
    "b[1][1][1] = 15"
   ]
  },
  {
   "cell_type": "code",
   "execution_count": 5,
   "id": "29397567",
   "metadata": {},
   "outputs": [
    {
     "data": {
      "text/plain": [
       "array([[[8, 6, 2],\n",
       "        [2, 4, 1],\n",
       "        [0, 8, 6]],\n",
       "\n",
       "       [[7, 4, 9],\n",
       "        [8, 2, 7],\n",
       "        [5, 6, 2]],\n",
       "\n",
       "       [[3, 2, 9],\n",
       "        [7, 1, 8],\n",
       "        [1, 1, 5]]])"
      ]
     },
     "execution_count": 5,
     "metadata": {},
     "output_type": "execute_result"
    }
   ],
   "source": [
    "b"
   ]
  },
  {
   "cell_type": "code",
   "execution_count": 6,
   "id": "556dd7f2",
   "metadata": {},
   "outputs": [
    {
     "data": {
      "text/plain": [
       "array([[[8, 6, 2],\n",
       "        [2, 4, 1],\n",
       "        [0, 8, 6]],\n",
       "\n",
       "       [[7, 4, 9],\n",
       "        [8, 2, 7],\n",
       "        [5, 6, 2]],\n",
       "\n",
       "       [[3, 2, 9],\n",
       "        [7, 1, 8],\n",
       "        [1, 1, 5]]])"
      ]
     },
     "execution_count": 6,
     "metadata": {},
     "output_type": "execute_result"
    }
   ],
   "source": [
    "a"
   ]
  },
  {
   "cell_type": "markdown",
   "id": "341a38df",
   "metadata": {},
   "source": [
    "### copy()"
   ]
  },
  {
   "cell_type": "code",
   "execution_count": 7,
   "id": "589271ae",
   "metadata": {},
   "outputs": [],
   "source": [
    "a = np.random.randint(10, size=(3,3,3 ))"
   ]
  },
  {
   "cell_type": "code",
   "execution_count": 8,
   "id": "24fd1a52",
   "metadata": {},
   "outputs": [
    {
     "data": {
      "text/plain": [
       "array([[[8, 4, 8],\n",
       "        [5, 3, 5],\n",
       "        [1, 2, 8]],\n",
       "\n",
       "       [[7, 9, 8],\n",
       "        [6, 4, 6],\n",
       "        [9, 5, 7]],\n",
       "\n",
       "       [[0, 1, 4],\n",
       "        [3, 5, 6],\n",
       "        [5, 7, 8]]])"
      ]
     },
     "execution_count": 8,
     "metadata": {},
     "output_type": "execute_result"
    }
   ],
   "source": [
    "a"
   ]
  },
  {
   "cell_type": "code",
   "execution_count": 9,
   "id": "6f87c5b1",
   "metadata": {},
   "outputs": [],
   "source": [
    "c = a.copy()"
   ]
  },
  {
   "cell_type": "code",
   "execution_count": 10,
   "id": "53d06721",
   "metadata": {},
   "outputs": [],
   "source": [
    "c[1][1][1]=100"
   ]
  },
  {
   "cell_type": "code",
   "execution_count": 12,
   "id": "a3cb5c17",
   "metadata": {},
   "outputs": [
    {
     "data": {
      "text/plain": [
       "array([[[  8,   4,   8],\n",
       "        [  5,   3,   5],\n",
       "        [  1,   2,   8]],\n",
       "\n",
       "       [[  7,   9,   8],\n",
       "        [  6, 100,   6],\n",
       "        [  9,   5,   7]],\n",
       "\n",
       "       [[  0,   1,   4],\n",
       "        [  3,   5,   6],\n",
       "        [  5,   7,   8]]])"
      ]
     },
     "execution_count": 12,
     "metadata": {},
     "output_type": "execute_result"
    }
   ],
   "source": [
    "c"
   ]
  },
  {
   "cell_type": "code",
   "execution_count": 13,
   "id": "a8a76f57",
   "metadata": {},
   "outputs": [
    {
     "data": {
      "text/plain": [
       "array([[[8, 4, 8],\n",
       "        [5, 3, 5],\n",
       "        [1, 2, 8]],\n",
       "\n",
       "       [[7, 9, 8],\n",
       "        [6, 4, 6],\n",
       "        [9, 5, 7]],\n",
       "\n",
       "       [[0, 1, 4],\n",
       "        [3, 5, 6],\n",
       "        [5, 7, 8]]])"
      ]
     },
     "execution_count": 13,
     "metadata": {},
     "output_type": "execute_result"
    }
   ],
   "source": [
    "a"
   ]
  }
 ],
 "metadata": {
  "kernelspec": {
   "display_name": "Python 3 (ipykernel)",
   "language": "python",
   "name": "python3"
  },
  "language_info": {
   "codemirror_mode": {
    "name": "ipython",
    "version": 3
   },
   "file_extension": ".py",
   "mimetype": "text/x-python",
   "name": "python",
   "nbconvert_exporter": "python",
   "pygments_lexer": "ipython3",
   "version": "3.11.5"
  }
 },
 "nbformat": 4,
 "nbformat_minor": 5
}
