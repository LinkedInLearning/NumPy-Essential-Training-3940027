{
 "cells": [
  {
   "cell_type": "code",
   "execution_count": 1,
   "id": "186170ab",
   "metadata": {},
   "outputs": [],
   "source": [
    "list_a = [1,2,3,4,5,6,7,8,9,10]"
   ]
  },
  {
   "cell_type": "code",
   "execution_count": 2,
   "id": "d902e8f6",
   "metadata": {},
   "outputs": [],
   "source": [
    "import numpy as np\n",
    "array_a = np.array([1,2,3,4,5,6,7,8,9,10])"
   ]
  },
  {
   "cell_type": "code",
   "execution_count": 3,
   "id": "162a8797",
   "metadata": {},
   "outputs": [
    {
     "data": {
      "text/plain": [
       "[2, 4, 6, 8, 10, 12, 14, 16, 18, 20]"
      ]
     },
     "execution_count": 3,
     "metadata": {},
     "output_type": "execute_result"
    }
   ],
   "source": [
    "[x*2 for x in list_a]"
   ]
  },
  {
   "cell_type": "code",
   "execution_count": 4,
   "id": "365c04b8",
   "metadata": {},
   "outputs": [
    {
     "data": {
      "text/plain": [
       "array([ 2,  4,  6,  8, 10, 12, 14, 16, 18, 20])"
      ]
     },
     "execution_count": 4,
     "metadata": {},
     "output_type": "execute_result"
    }
   ],
   "source": [
    "array_a * 2"
   ]
  },
  {
   "cell_type": "markdown",
   "id": "dbe2d3e9",
   "metadata": {},
   "source": [
    "## この処理を要素数を万単位、10万単位で実行すれば速度の違いが実感できる"
   ]
  }
 ],
 "metadata": {
  "kernelspec": {
   "display_name": "Python 3 (ipykernel)",
   "language": "python",
   "name": "python3"
  },
  "language_info": {
   "codemirror_mode": {
    "name": "ipython",
    "version": 3
   },
   "file_extension": ".py",
   "mimetype": "text/x-python",
   "name": "python",
   "nbconvert_exporter": "python",
   "pygments_lexer": "ipython3",
   "version": "3.11.5"
  }
 },
 "nbformat": 4,
 "nbformat_minor": 5
}
