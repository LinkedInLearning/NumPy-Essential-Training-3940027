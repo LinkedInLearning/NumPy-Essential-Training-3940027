{
 "cells": [
  {
   "cell_type": "markdown",
   "id": "5f3e2a3a",
   "metadata": {},
   "source": [
    "## 二項ユニバーサル関数"
   ]
  },
  {
   "cell_type": "code",
   "execution_count": 1,
   "id": "b577b5a1",
   "metadata": {},
   "outputs": [],
   "source": [
    "import numpy as np"
   ]
  },
  {
   "cell_type": "code",
   "execution_count": 2,
   "id": "d2a27286",
   "metadata": {},
   "outputs": [],
   "source": [
    "a = np.arange(16).reshape(4,4)"
   ]
  },
  {
   "cell_type": "code",
   "execution_count": 3,
   "id": "010b058b",
   "metadata": {},
   "outputs": [
    {
     "data": {
      "text/plain": [
       "array([[ 0,  1,  2,  3],\n",
       "       [ 4,  5,  6,  7],\n",
       "       [ 8,  9, 10, 11],\n",
       "       [12, 13, 14, 15]])"
      ]
     },
     "execution_count": 3,
     "metadata": {},
     "output_type": "execute_result"
    }
   ],
   "source": [
    "a"
   ]
  },
  {
   "cell_type": "code",
   "execution_count": 4,
   "id": "9991b188",
   "metadata": {},
   "outputs": [],
   "source": [
    "b = np.array([[ 1,  3,  2,  3],\n",
    "       [ 4,  5,  7,  9],\n",
    "       [ 5,  9, 1, 11],\n",
    "       [5, 13, 7, 15]])"
   ]
  },
  {
   "cell_type": "code",
   "execution_count": 5,
   "id": "9127c928",
   "metadata": {},
   "outputs": [
    {
     "data": {
      "text/plain": [
       "array([[ 1,  3,  2,  3],\n",
       "       [ 4,  5,  7,  9],\n",
       "       [ 5,  9,  1, 11],\n",
       "       [ 5, 13,  7, 15]])"
      ]
     },
     "execution_count": 5,
     "metadata": {},
     "output_type": "execute_result"
    }
   ],
   "source": [
    "b"
   ]
  },
  {
   "cell_type": "markdown",
   "id": "4ef42406",
   "metadata": {},
   "source": [
    "### add関数"
   ]
  },
  {
   "cell_type": "code",
   "execution_count": 6,
   "id": "0d99b80b",
   "metadata": {},
   "outputs": [
    {
     "data": {
      "text/plain": [
       "array([[ 1,  4,  4,  6],\n",
       "       [ 8, 10, 13, 16],\n",
       "       [13, 18, 11, 22],\n",
       "       [17, 26, 21, 30]])"
      ]
     },
     "execution_count": 6,
     "metadata": {},
     "output_type": "execute_result"
    }
   ],
   "source": [
    "np.add(a,b)"
   ]
  },
  {
   "cell_type": "markdown",
   "id": "7f8efefe",
   "metadata": {},
   "source": [
    "### subtract関数"
   ]
  },
  {
   "cell_type": "code",
   "execution_count": 7,
   "id": "66ee619c",
   "metadata": {},
   "outputs": [
    {
     "data": {
      "text/plain": [
       "array([[-1, -2,  0,  0],\n",
       "       [ 0,  0, -1, -2],\n",
       "       [ 3,  0,  9,  0],\n",
       "       [ 7,  0,  7,  0]])"
      ]
     },
     "execution_count": 7,
     "metadata": {},
     "output_type": "execute_result"
    }
   ],
   "source": [
    "np.subtract(a,b)"
   ]
  },
  {
   "cell_type": "markdown",
   "id": "3622144c",
   "metadata": {},
   "source": [
    "### multiply関数"
   ]
  },
  {
   "cell_type": "code",
   "execution_count": 8,
   "id": "6639b9f0",
   "metadata": {},
   "outputs": [
    {
     "data": {
      "text/plain": [
       "array([[  0,   3,   4,   9],\n",
       "       [ 16,  25,  42,  63],\n",
       "       [ 40,  81,  10, 121],\n",
       "       [ 60, 169,  98, 225]])"
      ]
     },
     "execution_count": 8,
     "metadata": {},
     "output_type": "execute_result"
    }
   ],
   "source": [
    "np.multiply(a,b)"
   ]
  },
  {
   "cell_type": "markdown",
   "id": "14e902bc",
   "metadata": {},
   "source": [
    "### divide関数"
   ]
  },
  {
   "cell_type": "code",
   "execution_count": 9,
   "id": "c1aeeabb",
   "metadata": {},
   "outputs": [
    {
     "data": {
      "text/plain": [
       "array([[ 0.        ,  0.33333333,  1.        ,  1.        ],\n",
       "       [ 1.        ,  1.        ,  0.85714286,  0.77777778],\n",
       "       [ 1.6       ,  1.        , 10.        ,  1.        ],\n",
       "       [ 2.4       ,  1.        ,  2.        ,  1.        ]])"
      ]
     },
     "execution_count": 9,
     "metadata": {},
     "output_type": "execute_result"
    }
   ],
   "source": [
    "np.divide(a,b)"
   ]
  },
  {
   "cell_type": "markdown",
   "id": "37bf0446",
   "metadata": {},
   "source": [
    "### mod関数:剰余"
   ]
  },
  {
   "cell_type": "code",
   "execution_count": 10,
   "id": "0d48d843",
   "metadata": {},
   "outputs": [
    {
     "data": {
      "text/plain": [
       "array([[0, 1, 0, 0],\n",
       "       [0, 0, 6, 7],\n",
       "       [3, 0, 0, 0],\n",
       "       [2, 0, 0, 0]])"
      ]
     },
     "execution_count": 10,
     "metadata": {},
     "output_type": "execute_result"
    }
   ],
   "source": [
    "np.mod(a,b)"
   ]
  },
  {
   "cell_type": "markdown",
   "id": "2fb663f5",
   "metadata": {},
   "source": [
    "### power関数:べき乗"
   ]
  },
  {
   "cell_type": "code",
   "execution_count": 11,
   "id": "082dabdc",
   "metadata": {},
   "outputs": [
    {
     "data": {
      "text/plain": [
       "array([[          0,           1,           4,          27],\n",
       "       [        256,        3125,      279936,    40353607],\n",
       "       [      32768,   387420489,          10,  1843829075],\n",
       "       [     248832, -1692154371,   105413504,  1500973039]])"
      ]
     },
     "execution_count": 11,
     "metadata": {},
     "output_type": "execute_result"
    }
   ],
   "source": [
    "np.power(a,b)"
   ]
  },
  {
   "cell_type": "code",
   "execution_count": null,
   "id": "3894fac8",
   "metadata": {},
   "outputs": [],
   "source": []
  }
 ],
 "metadata": {
  "kernelspec": {
   "display_name": "Python 3 (ipykernel)",
   "language": "python",
   "name": "python3"
  },
  "language_info": {
   "codemirror_mode": {
    "name": "ipython",
    "version": 3
   },
   "file_extension": ".py",
   "mimetype": "text/x-python",
   "name": "python",
   "nbconvert_exporter": "python",
   "pygments_lexer": "ipython3",
   "version": "3.11.5"
  }
 },
 "nbformat": 4,
 "nbformat_minor": 5
}
