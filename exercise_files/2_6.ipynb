{
 "cells": [
  {
   "cell_type": "markdown",
   "id": "28fc9513",
   "metadata": {},
   "source": [
    "### rand()"
   ]
  },
  {
   "cell_type": "code",
   "execution_count": 1,
   "id": "cf273c70",
   "metadata": {},
   "outputs": [],
   "source": [
    "import numpy as np"
   ]
  },
  {
   "cell_type": "code",
   "execution_count": 2,
   "id": "08ab1bcc",
   "metadata": {},
   "outputs": [
    {
     "data": {
      "text/plain": [
       "0.8094170509995853"
      ]
     },
     "execution_count": 2,
     "metadata": {},
     "output_type": "execute_result"
    }
   ],
   "source": [
    "np.random.rand()"
   ]
  },
  {
   "cell_type": "code",
   "execution_count": 3,
   "id": "f8c85657",
   "metadata": {},
   "outputs": [
    {
     "data": {
      "text/plain": [
       "array([0.29556639, 0.63605555, 0.72463903, 0.3237037 , 0.63290696])"
      ]
     },
     "execution_count": 3,
     "metadata": {},
     "output_type": "execute_result"
    }
   ],
   "source": [
    "np.random.rand(5)"
   ]
  },
  {
   "cell_type": "code",
   "execution_count": 4,
   "id": "7ce5209c",
   "metadata": {},
   "outputs": [
    {
     "data": {
      "text/plain": [
       "array([[0.72952089, 0.28775941, 0.13988488, 0.45417939, 0.24040137],\n",
       "       [0.04919874, 0.4798179 , 0.47672443, 0.03417115, 0.6086822 ]])"
      ]
     },
     "execution_count": 4,
     "metadata": {},
     "output_type": "execute_result"
    }
   ],
   "source": [
    "np.random.rand(2,5)"
   ]
  },
  {
   "cell_type": "markdown",
   "id": "d63065aa",
   "metadata": {},
   "source": [
    "### random_sample()"
   ]
  },
  {
   "cell_type": "code",
   "execution_count": 5,
   "id": "68495396",
   "metadata": {},
   "outputs": [
    {
     "data": {
      "text/plain": [
       "0.4730639916938715"
      ]
     },
     "execution_count": 5,
     "metadata": {},
     "output_type": "execute_result"
    }
   ],
   "source": [
    "np.random.random_sample()"
   ]
  },
  {
   "cell_type": "code",
   "execution_count": 6,
   "id": "f221dc58",
   "metadata": {},
   "outputs": [
    {
     "data": {
      "text/plain": [
       "array([[0.05146195, 0.29095254, 0.46934032, 0.86952606, 0.1561996 ],\n",
       "       [0.54585222, 0.03792347, 0.74181283, 0.33636513, 0.46772941]])"
      ]
     },
     "execution_count": 6,
     "metadata": {},
     "output_type": "execute_result"
    }
   ],
   "source": [
    "np.random.random_sample((2,5))"
   ]
  },
  {
   "cell_type": "markdown",
   "id": "dc7eca05",
   "metadata": {},
   "source": [
    "### randint()"
   ]
  },
  {
   "cell_type": "code",
   "execution_count": 7,
   "id": "515bc3a1",
   "metadata": {},
   "outputs": [
    {
     "data": {
      "text/plain": [
       "0"
      ]
     },
     "execution_count": 7,
     "metadata": {},
     "output_type": "execute_result"
    }
   ],
   "source": [
    "np.random.randint(10)"
   ]
  },
  {
   "cell_type": "code",
   "execution_count": 8,
   "id": "757e0ec0",
   "metadata": {},
   "outputs": [
    {
     "data": {
      "text/plain": [
       "array([1, 2, 3])"
      ]
     },
     "execution_count": 8,
     "metadata": {},
     "output_type": "execute_result"
    }
   ],
   "source": [
    "np.random.randint(10, size=3)"
   ]
  },
  {
   "cell_type": "code",
   "execution_count": 9,
   "id": "ea7cc47d",
   "metadata": {},
   "outputs": [
    {
     "data": {
      "text/plain": [
       "array([[9, 0, 5],\n",
       "       [7, 1, 2]])"
      ]
     },
     "execution_count": 9,
     "metadata": {},
     "output_type": "execute_result"
    }
   ],
   "source": [
    "np.random.randint(10, size=(2, 3))"
   ]
  },
  {
   "cell_type": "code",
   "execution_count": 10,
   "id": "78deae36",
   "metadata": {
    "scrolled": true
   },
   "outputs": [
    {
     "data": {
      "text/plain": [
       "array([[[3, 3],\n",
       "        [5, 5],\n",
       "        [6, 4]],\n",
       "\n",
       "       [[7, 7],\n",
       "        [3, 7],\n",
       "        [0, 3]],\n",
       "\n",
       "       [[0, 1],\n",
       "        [6, 3],\n",
       "        [2, 8]],\n",
       "\n",
       "       [[9, 0],\n",
       "        [8, 0],\n",
       "        [0, 5]]])"
      ]
     },
     "execution_count": 10,
     "metadata": {},
     "output_type": "execute_result"
    }
   ],
   "source": [
    "np.random.randint(10, size=(4, 3, 2))"
   ]
  },
  {
   "cell_type": "markdown",
   "id": "e3622d34",
   "metadata": {},
   "source": [
    "### randn()"
   ]
  },
  {
   "cell_type": "code",
   "execution_count": 11,
   "id": "086c4114",
   "metadata": {},
   "outputs": [
    {
     "data": {
      "text/plain": [
       "-1.690529924633985"
      ]
     },
     "execution_count": 11,
     "metadata": {},
     "output_type": "execute_result"
    }
   ],
   "source": [
    "np.random.randn()"
   ]
  },
  {
   "cell_type": "code",
   "execution_count": 12,
   "id": "66e08ff7",
   "metadata": {},
   "outputs": [
    {
     "data": {
      "text/plain": [
       "array([-0.32130033, -2.04338567, -0.21861484,  0.47384298,  0.31455352])"
      ]
     },
     "execution_count": 12,
     "metadata": {},
     "output_type": "execute_result"
    }
   ],
   "source": [
    "np.random.randn(5)"
   ]
  },
  {
   "cell_type": "code",
   "execution_count": 13,
   "id": "efc16a7e",
   "metadata": {
    "scrolled": true
   },
   "outputs": [
    {
     "data": {
      "text/plain": [
       "array([[-0.56254443,  1.08525695,  0.54513047],\n",
       "       [-0.9931421 ,  0.9433992 ,  0.50526059]])"
      ]
     },
     "execution_count": 13,
     "metadata": {},
     "output_type": "execute_result"
    }
   ],
   "source": [
    "np.random.randn(2, 3)"
   ]
  }
 ],
 "metadata": {
  "kernelspec": {
   "display_name": "Python 3 (ipykernel)",
   "language": "python",
   "name": "python3"
  },
  "language_info": {
   "codemirror_mode": {
    "name": "ipython",
    "version": 3
   },
   "file_extension": ".py",
   "mimetype": "text/x-python",
   "name": "python",
   "nbconvert_exporter": "python",
   "pygments_lexer": "ipython3",
   "version": "3.11.5"
  }
 },
 "nbformat": 4,
 "nbformat_minor": 5
}
