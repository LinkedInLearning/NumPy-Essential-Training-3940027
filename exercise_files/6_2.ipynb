{
 "cells": [
  {
   "cell_type": "code",
   "execution_count": 1,
   "id": "533e2c7a",
   "metadata": {},
   "outputs": [],
   "source": [
    "import numpy as np"
   ]
  },
  {
   "cell_type": "code",
   "execution_count": 2,
   "id": "b053b874",
   "metadata": {},
   "outputs": [],
   "source": [
    "x = np.loadtxt(\"m_data.txt\",delimiter=\"\\t\", skiprows=1)"
   ]
  },
  {
   "cell_type": "code",
   "execution_count": 3,
   "id": "027513ed",
   "metadata": {},
   "outputs": [
    {
     "data": {
      "text/plain": [
       "array([[ 1. , 19.2, 16.8, 17.7, 21. , 19.5],\n",
       "       [ 2. , 12.4, 13.8, 14.5, 11.1, 15.6],\n",
       "       [ 3. , 16.8, 17.2, 15.6, 17.8, 18.1],\n",
       "       [ 4. , 19.4, 18.7, 18.5, 18.3, 18.9],\n",
       "       [ 5. , 17.8, 17.4, 18.1, 17.8, 17.4]])"
      ]
     },
     "execution_count": 3,
     "metadata": {},
     "output_type": "execute_result"
    }
   ],
   "source": [
    "x"
   ]
  },
  {
   "cell_type": "markdown",
   "id": "b2ff0a20",
   "metadata": {},
   "source": [
    "### スライス操作で最初の列以外"
   ]
  },
  {
   "cell_type": "code",
   "execution_count": 4,
   "id": "7424fc14",
   "metadata": {},
   "outputs": [],
   "source": [
    "x1 = x[:,1:]"
   ]
  },
  {
   "cell_type": "code",
   "execution_count": 5,
   "id": "b9033a79",
   "metadata": {},
   "outputs": [
    {
     "data": {
      "text/plain": [
       "array([[19.2, 16.8, 17.7, 21. , 19.5],\n",
       "       [12.4, 13.8, 14.5, 11.1, 15.6],\n",
       "       [16.8, 17.2, 15.6, 17.8, 18.1],\n",
       "       [19.4, 18.7, 18.5, 18.3, 18.9],\n",
       "       [17.8, 17.4, 18.1, 17.8, 17.4]])"
      ]
     },
     "execution_count": 5,
     "metadata": {},
     "output_type": "execute_result"
    }
   ],
   "source": [
    "x1"
   ]
  },
  {
   "cell_type": "markdown",
   "id": "fbf2d18f",
   "metadata": {},
   "source": [
    "### meanメソッド"
   ]
  },
  {
   "cell_type": "code",
   "execution_count": 6,
   "id": "16be6391",
   "metadata": {},
   "outputs": [
    {
     "data": {
      "text/plain": [
       "17.176"
      ]
     },
     "execution_count": 6,
     "metadata": {},
     "output_type": "execute_result"
    }
   ],
   "source": [
    "x1.mean()"
   ]
  },
  {
   "cell_type": "markdown",
   "id": "b127d4cd",
   "metadata": {},
   "source": [
    "### スライス操作で1行目の1列以外"
   ]
  },
  {
   "cell_type": "code",
   "execution_count": 7,
   "id": "8575a2ee",
   "metadata": {},
   "outputs": [],
   "source": [
    "x1_1 = x[0,1:]"
   ]
  },
  {
   "cell_type": "code",
   "execution_count": 8,
   "id": "0b69c686",
   "metadata": {},
   "outputs": [
    {
     "data": {
      "text/plain": [
       "array([19.2, 16.8, 17.7, 21. , 19.5])"
      ]
     },
     "execution_count": 8,
     "metadata": {},
     "output_type": "execute_result"
    }
   ],
   "source": [
    "x1_1"
   ]
  },
  {
   "cell_type": "code",
   "execution_count": 9,
   "id": "4dab8914",
   "metadata": {},
   "outputs": [
    {
     "data": {
      "text/plain": [
       "18.84"
      ]
     },
     "execution_count": 9,
     "metadata": {},
     "output_type": "execute_result"
    }
   ],
   "source": [
    "x1_1.mean()"
   ]
  },
  {
   "cell_type": "markdown",
   "id": "8ca700e3",
   "metadata": {},
   "source": [
    "### そしてx1を保存"
   ]
  },
  {
   "cell_type": "code",
   "execution_count": 10,
   "id": "8e6ed91b",
   "metadata": {},
   "outputs": [],
   "source": [
    "np.savetxt(\"m_data_save.csv\", x1, delimiter=\",\")"
   ]
  },
  {
   "cell_type": "markdown",
   "id": "233eb249",
   "metadata": {},
   "source": [
    "### 小数点以下1桁までを指定"
   ]
  },
  {
   "cell_type": "code",
   "execution_count": 11,
   "id": "3cf6a328",
   "metadata": {},
   "outputs": [],
   "source": [
    "np.savetxt(\"m_data_save.csv\", x1, delimiter=\",\", fmt=\"%.1f\")"
   ]
  },
  {
   "cell_type": "code",
   "execution_count": null,
   "id": "3ead11fe",
   "metadata": {},
   "outputs": [],
   "source": []
  }
 ],
 "metadata": {
  "kernelspec": {
   "display_name": "Python 3 (ipykernel)",
   "language": "python",
   "name": "python3"
  },
  "language_info": {
   "codemirror_mode": {
    "name": "ipython",
    "version": 3
   },
   "file_extension": ".py",
   "mimetype": "text/x-python",
   "name": "python",
   "nbconvert_exporter": "python",
   "pygments_lexer": "ipython3",
   "version": "3.11.5"
  }
 },
 "nbformat": 4,
 "nbformat_minor": 5
}
