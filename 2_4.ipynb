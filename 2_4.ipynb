{
 "cells": [
  {
   "cell_type": "code",
   "execution_count": 6,
   "id": "a23ed981",
   "metadata": {},
   "outputs": [],
   "source": [
    "import numpy as np\n",
    "a = np.array([[1,2,3,4,5],[1,2,3,4,5]])"
   ]
  },
  {
   "cell_type": "markdown",
   "id": "cf13b190",
   "metadata": {},
   "source": [
    "### dtype"
   ]
  },
  {
   "cell_type": "code",
   "execution_count": 7,
   "id": "c6bd9c54",
   "metadata": {},
   "outputs": [
    {
     "data": {
      "text/plain": [
       "dtype('int32')"
      ]
     },
     "execution_count": 7,
     "metadata": {},
     "output_type": "execute_result"
    }
   ],
   "source": [
    "a.dtype"
   ]
  },
  {
   "cell_type": "code",
   "execution_count": 8,
   "id": "b807f247",
   "metadata": {},
   "outputs": [],
   "source": [
    "b = np.array([1.01,2.22,3.89,4.,5.11])"
   ]
  },
  {
   "cell_type": "code",
   "execution_count": 9,
   "id": "1f5384fd",
   "metadata": {},
   "outputs": [
    {
     "data": {
      "text/plain": [
       "dtype('float64')"
      ]
     },
     "execution_count": 9,
     "metadata": {},
     "output_type": "execute_result"
    }
   ],
   "source": [
    "b.dtype"
   ]
  },
  {
   "cell_type": "code",
   "execution_count": 10,
   "id": "809e5872",
   "metadata": {},
   "outputs": [],
   "source": [
    "c = np.array([[[k * j * i for k in range(1,4)] for j in range(1,6)] for i in range(1,5)], dtype='int16' )"
   ]
  },
  {
   "cell_type": "code",
   "execution_count": 11,
   "id": "e669e60c",
   "metadata": {},
   "outputs": [
    {
     "data": {
      "text/plain": [
       "dtype('int16')"
      ]
     },
     "execution_count": 11,
     "metadata": {},
     "output_type": "execute_result"
    }
   ],
   "source": [
    "c.dtype"
   ]
  },
  {
   "cell_type": "markdown",
   "id": "c7348bf5",
   "metadata": {},
   "source": [
    "### shape"
   ]
  },
  {
   "cell_type": "code",
   "execution_count": 12,
   "id": "f25ee9c4",
   "metadata": {},
   "outputs": [
    {
     "data": {
      "text/plain": [
       "(2, 5)"
      ]
     },
     "execution_count": 12,
     "metadata": {},
     "output_type": "execute_result"
    }
   ],
   "source": [
    "a.shape"
   ]
  },
  {
   "cell_type": "code",
   "execution_count": 13,
   "id": "e230ea48",
   "metadata": {},
   "outputs": [
    {
     "data": {
      "text/plain": [
       "(5,)"
      ]
     },
     "execution_count": 13,
     "metadata": {},
     "output_type": "execute_result"
    }
   ],
   "source": [
    "b.shape"
   ]
  },
  {
   "cell_type": "code",
   "execution_count": 3,
   "id": "62dee1c7",
   "metadata": {},
   "outputs": [
    {
     "data": {
      "text/plain": [
       "(4, 5, 3)"
      ]
     },
     "execution_count": 3,
     "metadata": {},
     "output_type": "execute_result"
    }
   ],
   "source": [
    "c.shape"
   ]
  },
  {
   "cell_type": "markdown",
   "id": "bff5452e",
   "metadata": {},
   "source": [
    "### ndim\n"
   ]
  },
  {
   "cell_type": "code",
   "execution_count": 14,
   "id": "1ae479bb",
   "metadata": {},
   "outputs": [
    {
     "data": {
      "text/plain": [
       "2"
      ]
     },
     "execution_count": 14,
     "metadata": {},
     "output_type": "execute_result"
    }
   ],
   "source": [
    "a.ndim"
   ]
  },
  {
   "cell_type": "code",
   "execution_count": 15,
   "id": "b634b79d",
   "metadata": {},
   "outputs": [
    {
     "data": {
      "text/plain": [
       "1"
      ]
     },
     "execution_count": 15,
     "metadata": {},
     "output_type": "execute_result"
    }
   ],
   "source": [
    "b.ndim"
   ]
  },
  {
   "cell_type": "code",
   "execution_count": 16,
   "id": "df4e5db2",
   "metadata": {},
   "outputs": [
    {
     "data": {
      "text/plain": [
       "3"
      ]
     },
     "execution_count": 16,
     "metadata": {},
     "output_type": "execute_result"
    }
   ],
   "source": [
    "c.ndim"
   ]
  },
  {
   "cell_type": "markdown",
   "id": "be81a6b9",
   "metadata": {},
   "source": [
    "### size"
   ]
  },
  {
   "cell_type": "code",
   "execution_count": 17,
   "id": "649c02f2",
   "metadata": {},
   "outputs": [
    {
     "data": {
      "text/plain": [
       "10"
      ]
     },
     "execution_count": 17,
     "metadata": {},
     "output_type": "execute_result"
    }
   ],
   "source": [
    "a.size"
   ]
  },
  {
   "cell_type": "code",
   "execution_count": 18,
   "id": "0ee68df0",
   "metadata": {},
   "outputs": [
    {
     "data": {
      "text/plain": [
       "5"
      ]
     },
     "execution_count": 18,
     "metadata": {},
     "output_type": "execute_result"
    }
   ],
   "source": [
    "b.size"
   ]
  },
  {
   "cell_type": "code",
   "execution_count": 19,
   "id": "5f46bbe2",
   "metadata": {},
   "outputs": [
    {
     "data": {
      "text/plain": [
       "60"
      ]
     },
     "execution_count": 19,
     "metadata": {},
     "output_type": "execute_result"
    }
   ],
   "source": [
    "c.size"
   ]
  },
  {
   "cell_type": "markdown",
   "id": "ac3439ef",
   "metadata": {},
   "source": [
    "### T"
   ]
  },
  {
   "cell_type": "code",
   "execution_count": 20,
   "id": "a3379b0f",
   "metadata": {},
   "outputs": [
    {
     "data": {
      "text/plain": [
       "array([[1, 1],\n",
       "       [2, 2],\n",
       "       [3, 3],\n",
       "       [4, 4],\n",
       "       [5, 5]])"
      ]
     },
     "execution_count": 20,
     "metadata": {},
     "output_type": "execute_result"
    }
   ],
   "source": [
    "a.T"
   ]
  },
  {
   "cell_type": "code",
   "execution_count": 21,
   "id": "fffa1a7f",
   "metadata": {},
   "outputs": [
    {
     "data": {
      "text/plain": [
       "array([[[ 1,  2,  3,  4],\n",
       "        [ 2,  4,  6,  8],\n",
       "        [ 3,  6,  9, 12],\n",
       "        [ 4,  8, 12, 16],\n",
       "        [ 5, 10, 15, 20]],\n",
       "\n",
       "       [[ 2,  4,  6,  8],\n",
       "        [ 4,  8, 12, 16],\n",
       "        [ 6, 12, 18, 24],\n",
       "        [ 8, 16, 24, 32],\n",
       "        [10, 20, 30, 40]],\n",
       "\n",
       "       [[ 3,  6,  9, 12],\n",
       "        [ 6, 12, 18, 24],\n",
       "        [ 9, 18, 27, 36],\n",
       "        [12, 24, 36, 48],\n",
       "        [15, 30, 45, 60]]], dtype=int16)"
      ]
     },
     "execution_count": 21,
     "metadata": {},
     "output_type": "execute_result"
    }
   ],
   "source": [
    "c.T"
   ]
  },
  {
   "cell_type": "code",
   "execution_count": 22,
   "id": "50843784",
   "metadata": {},
   "outputs": [
    {
     "data": {
      "text/plain": [
       "array([[[ 1,  2,  3],\n",
       "        [ 2,  4,  6],\n",
       "        [ 3,  6,  9],\n",
       "        [ 4,  8, 12],\n",
       "        [ 5, 10, 15]],\n",
       "\n",
       "       [[ 2,  4,  6],\n",
       "        [ 4,  8, 12],\n",
       "        [ 6, 12, 18],\n",
       "        [ 8, 16, 24],\n",
       "        [10, 20, 30]],\n",
       "\n",
       "       [[ 3,  6,  9],\n",
       "        [ 6, 12, 18],\n",
       "        [ 9, 18, 27],\n",
       "        [12, 24, 36],\n",
       "        [15, 30, 45]],\n",
       "\n",
       "       [[ 4,  8, 12],\n",
       "        [ 8, 16, 24],\n",
       "        [12, 24, 36],\n",
       "        [16, 32, 48],\n",
       "        [20, 40, 60]]], dtype=int16)"
      ]
     },
     "execution_count": 22,
     "metadata": {},
     "output_type": "execute_result"
    }
   ],
   "source": [
    "c"
   ]
  },
  {
   "cell_type": "code",
   "execution_count": 23,
   "id": "f2ade33f",
   "metadata": {},
   "outputs": [],
   "source": [
    "d = c.T"
   ]
  },
  {
   "cell_type": "code",
   "execution_count": 7,
   "id": "80f95933",
   "metadata": {},
   "outputs": [
    {
     "data": {
      "text/plain": [
       "array([[[ 1,  2,  3,  4],\n",
       "        [ 2,  4,  6,  8],\n",
       "        [ 3,  6,  9, 12],\n",
       "        [ 4,  8, 12, 16],\n",
       "        [ 5, 10, 15, 20]],\n",
       "\n",
       "       [[ 2,  4,  6,  8],\n",
       "        [ 4,  8, 12, 16],\n",
       "        [ 6, 12, 18, 24],\n",
       "        [ 8, 16, 24, 32],\n",
       "        [10, 20, 30, 40]],\n",
       "\n",
       "       [[ 3,  6,  9, 12],\n",
       "        [ 6, 12, 18, 24],\n",
       "        [ 9, 18, 27, 36],\n",
       "        [12, 24, 36, 48],\n",
       "        [15, 30, 45, 60]]], dtype=int16)"
      ]
     },
     "execution_count": 7,
     "metadata": {},
     "output_type": "execute_result"
    }
   ],
   "source": [
    "d"
   ]
  },
  {
   "cell_type": "code",
   "execution_count": 8,
   "id": "ff043943",
   "metadata": {},
   "outputs": [
    {
     "data": {
      "text/plain": [
       "(3, 5, 4)"
      ]
     },
     "execution_count": 8,
     "metadata": {},
     "output_type": "execute_result"
    }
   ],
   "source": [
    "d.shape"
   ]
  }
 ],
 "metadata": {
  "kernelspec": {
   "display_name": "Python 3 (ipykernel)",
   "language": "python",
   "name": "python3"
  },
  "language_info": {
   "codemirror_mode": {
    "name": "ipython",
    "version": 3
   },
   "file_extension": ".py",
   "mimetype": "text/x-python",
   "name": "python",
   "nbconvert_exporter": "python",
   "pygments_lexer": "ipython3",
   "version": "3.11.5"
  }
 },
 "nbformat": 4,
 "nbformat_minor": 5
}
