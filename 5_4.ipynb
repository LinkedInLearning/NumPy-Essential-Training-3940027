{
 "cells": [
  {
   "cell_type": "code",
   "execution_count": 1,
   "id": "94aa24b6",
   "metadata": {},
   "outputs": [],
   "source": [
    "import numpy as np"
   ]
  },
  {
   "cell_type": "code",
   "execution_count": 2,
   "id": "8ef6e9a3",
   "metadata": {},
   "outputs": [],
   "source": [
    "a = np.random.randn(3, 4)"
   ]
  },
  {
   "cell_type": "code",
   "execution_count": 3,
   "id": "7be82158",
   "metadata": {},
   "outputs": [
    {
     "data": {
      "text/plain": [
       "array([[-0.21223807,  0.06369239, -0.32187158,  0.36301478],\n",
       "       [ 1.76189748, -0.77776294,  0.11804204, -1.21407575],\n",
       "       [ 0.59553604,  0.84442115, -0.71304521,  1.04000187]])"
      ]
     },
     "execution_count": 3,
     "metadata": {},
     "output_type": "execute_result"
    }
   ],
   "source": [
    "a"
   ]
  },
  {
   "cell_type": "markdown",
   "id": "a86990c3",
   "metadata": {},
   "source": [
    "### sum関数"
   ]
  },
  {
   "cell_type": "code",
   "execution_count": 4,
   "id": "ef13902e",
   "metadata": {},
   "outputs": [
    {
     "data": {
      "text/plain": [
       "1.5476122016972784"
      ]
     },
     "execution_count": 4,
     "metadata": {},
     "output_type": "execute_result"
    }
   ],
   "source": [
    "np.sum(a)"
   ]
  },
  {
   "cell_type": "code",
   "execution_count": 5,
   "id": "066f94f7",
   "metadata": {},
   "outputs": [
    {
     "data": {
      "text/plain": [
       "array([ 2.14519545,  0.1303506 , -0.91687474,  0.1889409 ])"
      ]
     },
     "execution_count": 5,
     "metadata": {},
     "output_type": "execute_result"
    }
   ],
   "source": [
    "sum(a) # 間違えてPythonのsum関数を実行すると"
   ]
  },
  {
   "cell_type": "markdown",
   "id": "75dbfef0",
   "metadata": {},
   "source": [
    "### sumメソッド"
   ]
  },
  {
   "cell_type": "code",
   "execution_count": 6,
   "id": "d454eb67",
   "metadata": {},
   "outputs": [
    {
     "data": {
      "text/plain": [
       "1.5476122016972784"
      ]
     },
     "execution_count": 6,
     "metadata": {},
     "output_type": "execute_result"
    }
   ],
   "source": [
    "a.sum()"
   ]
  },
  {
   "cell_type": "markdown",
   "id": "f575b1a7",
   "metadata": {},
   "source": [
    "### prod関数:要素の積"
   ]
  },
  {
   "cell_type": "code",
   "execution_count": 7,
   "id": "379174e2",
   "metadata": {},
   "outputs": [
    {
     "data": {
      "text/plain": [
       "-0.00011567685443454834"
      ]
     },
     "execution_count": 7,
     "metadata": {},
     "output_type": "execute_result"
    }
   ],
   "source": [
    "np.prod(a)"
   ]
  },
  {
   "cell_type": "code",
   "execution_count": 8,
   "id": "0eaf30bb",
   "metadata": {},
   "outputs": [
    {
     "data": {
      "text/plain": [
       "-0.00011567685443454834"
      ]
     },
     "execution_count": 8,
     "metadata": {},
     "output_type": "execute_result"
    }
   ],
   "source": [
    "a.prod()"
   ]
  },
  {
   "cell_type": "markdown",
   "id": "4af422bf",
   "metadata": {},
   "source": [
    "### mean関数:平均値"
   ]
  },
  {
   "cell_type": "code",
   "execution_count": 9,
   "id": "f9b467b6",
   "metadata": {},
   "outputs": [
    {
     "data": {
      "text/plain": [
       "array([[-0.21223807,  0.06369239, -0.32187158,  0.36301478],\n",
       "       [ 1.76189748, -0.77776294,  0.11804204, -1.21407575],\n",
       "       [ 0.59553604,  0.84442115, -0.71304521,  1.04000187]])"
      ]
     },
     "execution_count": 9,
     "metadata": {},
     "output_type": "execute_result"
    }
   ],
   "source": [
    "a"
   ]
  },
  {
   "cell_type": "code",
   "execution_count": 10,
   "id": "46f6f30d",
   "metadata": {},
   "outputs": [
    {
     "data": {
      "text/plain": [
       "0.1289676834747732"
      ]
     },
     "execution_count": 10,
     "metadata": {},
     "output_type": "execute_result"
    }
   ],
   "source": [
    "np.mean(a)"
   ]
  },
  {
   "cell_type": "markdown",
   "id": "1dc9cfaa",
   "metadata": {},
   "source": [
    "### meanメソッド"
   ]
  },
  {
   "cell_type": "code",
   "execution_count": 11,
   "id": "69a1a758",
   "metadata": {},
   "outputs": [
    {
     "data": {
      "text/plain": [
       "0.1289676834747732"
      ]
     },
     "execution_count": 11,
     "metadata": {},
     "output_type": "execute_result"
    }
   ],
   "source": [
    "a.mean()"
   ]
  },
  {
   "cell_type": "markdown",
   "id": "8772408d",
   "metadata": {},
   "source": [
    "### max、min関数"
   ]
  },
  {
   "cell_type": "code",
   "execution_count": 12,
   "id": "a7aa3f72",
   "metadata": {},
   "outputs": [
    {
     "data": {
      "text/plain": [
       "1.76189748285133"
      ]
     },
     "execution_count": 12,
     "metadata": {},
     "output_type": "execute_result"
    }
   ],
   "source": [
    "np.max(a)"
   ]
  },
  {
   "cell_type": "code",
   "execution_count": 13,
   "id": "992899e5",
   "metadata": {},
   "outputs": [
    {
     "data": {
      "text/plain": [
       "-1.2140757516891314"
      ]
     },
     "execution_count": 13,
     "metadata": {},
     "output_type": "execute_result"
    }
   ],
   "source": [
    "np.min(a)"
   ]
  },
  {
   "cell_type": "markdown",
   "id": "fd71ca47",
   "metadata": {},
   "source": [
    "### max、minメソッド"
   ]
  },
  {
   "cell_type": "code",
   "execution_count": 14,
   "id": "e5fb9c18",
   "metadata": {},
   "outputs": [
    {
     "data": {
      "text/plain": [
       "1.76189748285133"
      ]
     },
     "execution_count": 14,
     "metadata": {},
     "output_type": "execute_result"
    }
   ],
   "source": [
    "a.max()"
   ]
  },
  {
   "cell_type": "code",
   "execution_count": 15,
   "id": "220bf708",
   "metadata": {},
   "outputs": [
    {
     "data": {
      "text/plain": [
       "-1.2140757516891314"
      ]
     },
     "execution_count": 15,
     "metadata": {},
     "output_type": "execute_result"
    }
   ],
   "source": [
    "a.min()"
   ]
  },
  {
   "cell_type": "markdown",
   "id": "7bd71020",
   "metadata": {},
   "source": [
    "### std関数:標準偏差"
   ]
  },
  {
   "cell_type": "code",
   "execution_count": 16,
   "id": "fc5ed184",
   "metadata": {},
   "outputs": [
    {
     "data": {
      "text/plain": [
       "array([[-0.21223807,  0.06369239, -0.32187158,  0.36301478],\n",
       "       [ 1.76189748, -0.77776294,  0.11804204, -1.21407575],\n",
       "       [ 0.59553604,  0.84442115, -0.71304521,  1.04000187]])"
      ]
     },
     "execution_count": 16,
     "metadata": {},
     "output_type": "execute_result"
    }
   ],
   "source": [
    "a"
   ]
  },
  {
   "cell_type": "code",
   "execution_count": 17,
   "id": "d04f7abd",
   "metadata": {},
   "outputs": [
    {
     "data": {
      "text/plain": [
       "0.8134161597412263"
      ]
     },
     "execution_count": 17,
     "metadata": {},
     "output_type": "execute_result"
    }
   ],
   "source": [
    "np.std(a)"
   ]
  },
  {
   "cell_type": "code",
   "execution_count": 18,
   "id": "d2b21a4e",
   "metadata": {},
   "outputs": [
    {
     "data": {
      "text/plain": [
       "0.8134161597412263"
      ]
     },
     "execution_count": 18,
     "metadata": {},
     "output_type": "execute_result"
    }
   ],
   "source": [
    "a.std()"
   ]
  },
  {
   "cell_type": "markdown",
   "id": "38e45d47",
   "metadata": {},
   "source": [
    "### var関数:分散値"
   ]
  },
  {
   "cell_type": "code",
   "execution_count": 19,
   "id": "890824ca",
   "metadata": {},
   "outputs": [
    {
     "data": {
      "text/plain": [
       "0.6616458489281641"
      ]
     },
     "execution_count": 19,
     "metadata": {},
     "output_type": "execute_result"
    }
   ],
   "source": [
    "np.var(a)"
   ]
  },
  {
   "cell_type": "code",
   "execution_count": 20,
   "id": "f9c55e4a",
   "metadata": {},
   "outputs": [
    {
     "data": {
      "text/plain": [
       "0.6616458489281641"
      ]
     },
     "execution_count": 20,
     "metadata": {},
     "output_type": "execute_result"
    }
   ],
   "source": [
    "a.var()"
   ]
  },
  {
   "cell_type": "code",
   "execution_count": null,
   "id": "a6396173",
   "metadata": {},
   "outputs": [],
   "source": []
  }
 ],
 "metadata": {
  "kernelspec": {
   "display_name": "Python 3 (ipykernel)",
   "language": "python",
   "name": "python3"
  },
  "language_info": {
   "codemirror_mode": {
    "name": "ipython",
    "version": 3
   },
   "file_extension": ".py",
   "mimetype": "text/x-python",
   "name": "python",
   "nbconvert_exporter": "python",
   "pygments_lexer": "ipython3",
   "version": "3.11.5"
  }
 },
 "nbformat": 4,
 "nbformat_minor": 5
}
