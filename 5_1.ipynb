{
 "cells": [
  {
   "cell_type": "code",
   "execution_count": 1,
   "id": "e7533644",
   "metadata": {},
   "outputs": [],
   "source": [
    "import numpy as np"
   ]
  },
  {
   "cell_type": "markdown",
   "id": "ead0fb8b",
   "metadata": {},
   "source": [
    "### 乱数のシードを設定"
   ]
  },
  {
   "cell_type": "code",
   "execution_count": 2,
   "id": "d8154759",
   "metadata": {},
   "outputs": [],
   "source": [
    "np.random.seed(0)"
   ]
  },
  {
   "cell_type": "markdown",
   "id": "2307e390",
   "metadata": {},
   "source": [
    "### forループでべき乗の計算"
   ]
  },
  {
   "cell_type": "code",
   "execution_count": 5,
   "id": "833689ff",
   "metadata": {},
   "outputs": [],
   "source": [
    "def compute_squares(values):\n",
    "    output = np.empty(len(values))\n",
    "    for i in range(len(values)):\n",
    "        output[i] = values[i] **2 \n",
    "    return output"
   ]
  },
  {
   "cell_type": "code",
   "execution_count": 6,
   "id": "ad954901",
   "metadata": {},
   "outputs": [
    {
     "name": "stdout",
     "output_type": "stream",
     "text": [
      "[4 6 3 5 8]\n"
     ]
    },
    {
     "data": {
      "text/plain": [
       "array([16., 36.,  9., 25., 64.])"
      ]
     },
     "execution_count": 6,
     "metadata": {},
     "output_type": "execute_result"
    }
   ],
   "source": [
    "values = np.random.randint(1, 10, size = 5)\n",
    "print(values)\n",
    "compute_squares(values)"
   ]
  },
  {
   "cell_type": "markdown",
   "id": "14112beb",
   "metadata": {},
   "source": [
    "### %timeitマジックコマンドで実行時間を計測"
   ]
  },
  {
   "cell_type": "code",
   "execution_count": 7,
   "id": "e9da59b5",
   "metadata": {},
   "outputs": [
    {
     "name": "stdout",
     "output_type": "stream",
     "text": [
      "605 ms ± 31.1 ms per loop (mean ± std. dev. of 7 runs, 1 loop each)\n"
     ]
    }
   ],
   "source": [
    "values = np.random.randint(1, 10, size = 1000000)\n",
    "%timeit compute_squares(values) # %timeit Magicコマンド"
   ]
  },
  {
   "cell_type": "markdown",
   "id": "3c280322",
   "metadata": {},
   "source": [
    "### 100万回の計算に1秒ほど掛かっているので、ベクトル演算にしてみる"
   ]
  },
  {
   "cell_type": "code",
   "execution_count": 8,
   "id": "b2323658",
   "metadata": {},
   "outputs": [
    {
     "name": "stdout",
     "output_type": "stream",
     "text": [
      "1.62 ms ± 66.9 µs per loop (mean ± std. dev. of 7 runs, 1,000 loops each)\n"
     ]
    }
   ],
   "source": [
    "values = np.random.randint(1, 10, size = 1000000)\n",
    "%timeit values **2 # %timeit Magicコマンド"
   ]
  },
  {
   "cell_type": "markdown",
   "id": "2812d146",
   "metadata": {},
   "source": [
    "### ループ操作しないベクトル演算だと2.5ms "
   ]
  },
  {
   "cell_type": "code",
   "execution_count": 9,
   "id": "3995e635",
   "metadata": {},
   "outputs": [],
   "source": [
    "a = np.arange(6).reshape(2, 3)"
   ]
  },
  {
   "cell_type": "code",
   "execution_count": 10,
   "id": "7b01e444",
   "metadata": {},
   "outputs": [
    {
     "data": {
      "text/plain": [
       "array([[0, 1, 2],\n",
       "       [3, 4, 5]])"
      ]
     },
     "execution_count": 10,
     "metadata": {},
     "output_type": "execute_result"
    }
   ],
   "source": [
    "a"
   ]
  },
  {
   "cell_type": "markdown",
   "id": "03030907",
   "metadata": {},
   "source": [
    "### ベクトル演算の練習"
   ]
  },
  {
   "cell_type": "code",
   "execution_count": 11,
   "id": "b47b7064",
   "metadata": {},
   "outputs": [
    {
     "data": {
      "text/plain": [
       "array([[1, 2, 3],\n",
       "       [4, 5, 6]])"
      ]
     },
     "execution_count": 11,
     "metadata": {},
     "output_type": "execute_result"
    }
   ],
   "source": [
    "a + 1"
   ]
  },
  {
   "cell_type": "code",
   "execution_count": 12,
   "id": "563f64e3",
   "metadata": {},
   "outputs": [
    {
     "data": {
      "text/plain": [
       "array([[ 0,  3,  6],\n",
       "       [ 9, 12, 15]])"
      ]
     },
     "execution_count": 12,
     "metadata": {},
     "output_type": "execute_result"
    }
   ],
   "source": [
    "a * 3"
   ]
  },
  {
   "cell_type": "code",
   "execution_count": null,
   "id": "1233041e",
   "metadata": {},
   "outputs": [],
   "source": []
  }
 ],
 "metadata": {
  "kernelspec": {
   "display_name": "Python 3 (ipykernel)",
   "language": "python",
   "name": "python3"
  },
  "language_info": {
   "codemirror_mode": {
    "name": "ipython",
    "version": 3
   },
   "file_extension": ".py",
   "mimetype": "text/x-python",
   "name": "python",
   "nbconvert_exporter": "python",
   "pygments_lexer": "ipython3",
   "version": "3.11.5"
  }
 },
 "nbformat": 4,
 "nbformat_minor": 5
}
